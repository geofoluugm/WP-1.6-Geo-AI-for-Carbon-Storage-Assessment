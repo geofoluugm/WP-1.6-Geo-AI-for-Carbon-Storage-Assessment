{
 "cells": [
  {
   "cell_type": "code",
   "execution_count": 6,
   "metadata": {},
   "outputs": [],
   "source": [
    "import rasterio\n",
    "import numpy as np\n",
    "import joblib\n",
    "from joblib import load\n",
    "import sklearn\n",
    "import pandas as pd"
   ]
  },
  {
   "cell_type": "code",
   "execution_count": 7,
   "metadata": {},
   "outputs": [],
   "source": [
    "rf_model = joblib.load(\"rf_model_gedi_sentinel.joblib\")\n",
    "\n",
    "with rasterio.open(\"merge_s1_s2.tif\") as merge:\n",
    "    merge_dt = merge.read()  # Shape: (bands, height, width)\n",
    "    profile = merge.profile  # Save the metadata for later\n",
    "    transform = merge.transform"
   ]
  },
  {
   "cell_type": "code",
   "execution_count": 8,
   "metadata": {},
   "outputs": [
    {
     "name": "stdout",
     "output_type": "stream",
     "text": [
      "['B2' 'B3' 'B4' 'B5' 'B6' 'B7' 'B8' 'B11' 'B12' 'VV' 'VH']\n"
     ]
    }
   ],
   "source": [
    "expected_feature_names = rf_model.feature_names_in_\n",
    "print(expected_feature_names)"
   ]
  },
  {
   "cell_type": "code",
   "execution_count": 9,
   "metadata": {},
   "outputs": [],
   "source": [
    "merge_data = np.transpose(merge_dt, (1, 2, 0))\n",
    "pixels = merge_data.shape[0] * merge_data.shape[1]\n",
    "bands = merge_data.shape[2]\n",
    "merge_data_2d = merge_data.reshape(pixels, bands)\n",
    "feature_names = [\"B2\", \"B3\", \"B4\", \"B5\", \"B6\", \"B7\", \"B8\", \"B11\", \"B12\", \"VV\", \"VH\"]\n",
    "merge_data_df = pd.DataFrame(merge_data_2d, columns=feature_names)\n",
    "\n",
    "# Apply the model to predict\n",
    "predictions = rf_model.predict(merge_data_df)\n",
    "\n",
    "predictions_raster = predictions.reshape(merge_data.shape[0], merge_data.shape[1])\n",
    "\n",
    "output_profile = profile\n",
    "output_profile.update(dtype=rasterio.float32, count=1)\n",
    "\n",
    "with rasterio.open(\"predictions_rf_agb.tif\", \"w\", **output_profile) as dest:\n",
    "    dest.write(predictions_raster.astype(rasterio.float32), 1)"
   ]
  }
 ],
 "metadata": {
  "kernelspec": {
   "display_name": "base",
   "language": "python",
   "name": "python3"
  },
  "language_info": {
   "codemirror_mode": {
    "name": "ipython",
    "version": 3
   },
   "file_extension": ".py",
   "mimetype": "text/x-python",
   "name": "python",
   "nbconvert_exporter": "python",
   "pygments_lexer": "ipython3",
   "version": "3.11.7"
  }
 },
 "nbformat": 4,
 "nbformat_minor": 2
}
